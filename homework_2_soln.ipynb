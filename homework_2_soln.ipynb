{
 "cells": [
  {
   "cell_type": "raw",
   "id": "317bd5b7",
   "metadata": {},
   "source": [
    "                                     Homework"
   ]
  },
  {
   "cell_type": "markdown",
   "id": "9c09a037",
   "metadata": {},
   "source": [
    "1. Try to split a string after conversion of entire string in uppercase.\n",
    "2. try to convert the whole string into lower case \n",
    "3 . Try to capitalize the whole string \n",
    "4 . Write a diference between isalnum() and isalpha() \n",
    "5. Try to give an example of expand tab \n",
    "6 . Give an example of strip , lstrip and rstrip\n",
    "7. Replace a string charecter by another charecter by taking your own example. \n",
    "8 . Try to give a defination of string center function with and exmple "
   ]
  },
  {
   "cell_type": "markdown",
   "id": "1d62ca80",
   "metadata": {},
   "source": [
    "Try to split a string after conversion of entire string in uppercase."
   ]
  },
  {
   "cell_type": "code",
   "execution_count": 18,
   "id": "6f232470",
   "metadata": {},
   "outputs": [],
   "source": [
    "a=\"Narra Manas\""
   ]
  },
  {
   "cell_type": "code",
   "execution_count": 19,
   "id": "b7a5bd8e",
   "metadata": {},
   "outputs": [
    {
     "data": {
      "text/plain": [
       "'Narra Manas'"
      ]
     },
     "execution_count": 19,
     "metadata": {},
     "output_type": "execute_result"
    }
   ],
   "source": [
    "a"
   ]
  },
  {
   "cell_type": "code",
   "execution_count": 23,
   "id": "a4fdb453",
   "metadata": {},
   "outputs": [
    {
     "data": {
      "text/plain": [
       "['N', 'RR', ' M', 'N', 'S']"
      ]
     },
     "execution_count": 23,
     "metadata": {},
     "output_type": "execute_result"
    }
   ],
   "source": [
    "#a.upper().split(\"A\")\n",
    "#a.upper()"
   ]
  },
  {
   "cell_type": "code",
   "execution_count": 24,
   "id": "892c1a51",
   "metadata": {},
   "outputs": [
    {
     "data": {
      "text/plain": [
       "'NARRA MANAS'"
      ]
     },
     "execution_count": 24,
     "metadata": {},
     "output_type": "execute_result"
    }
   ],
   "source": [
    "a.upper()"
   ]
  },
  {
   "cell_type": "code",
   "execution_count": 26,
   "id": "dd8f0cdf",
   "metadata": {},
   "outputs": [
    {
     "data": {
      "text/plain": [
       "['Narra Manas']"
      ]
     },
     "execution_count": 26,
     "metadata": {},
     "output_type": "execute_result"
    }
   ],
   "source": [
    "a.split(\"A\")"
   ]
  },
  {
   "cell_type": "code",
   "execution_count": 27,
   "id": "9a3ab5ef",
   "metadata": {},
   "outputs": [
    {
     "data": {
      "text/plain": [
       "['N', 'rr', ' M', 'n', 's']"
      ]
     },
     "execution_count": 27,
     "metadata": {},
     "output_type": "execute_result"
    }
   ],
   "source": [
    "a.split(\"a\")"
   ]
  },
  {
   "cell_type": "markdown",
   "id": "b04d003f",
   "metadata": {},
   "source": [
    "2. try to convert the whole string into lower case"
   ]
  },
  {
   "cell_type": "code",
   "execution_count": 29,
   "id": "8707564d",
   "metadata": {},
   "outputs": [],
   "source": [
    "a = \"MADHU\""
   ]
  },
  {
   "cell_type": "code",
   "execution_count": 30,
   "id": "b8de0834",
   "metadata": {},
   "outputs": [
    {
     "data": {
      "text/plain": [
       "'madhu'"
      ]
     },
     "execution_count": 30,
     "metadata": {},
     "output_type": "execute_result"
    }
   ],
   "source": [
    "a.lower()"
   ]
  },
  {
   "cell_type": "markdown",
   "id": "2b6401fd",
   "metadata": {},
   "source": [
    "3. Try to capitalize the whole string"
   ]
  },
  {
   "cell_type": "code",
   "execution_count": 31,
   "id": "ad52244c",
   "metadata": {},
   "outputs": [],
   "source": [
    "a = \"madhu\""
   ]
  },
  {
   "cell_type": "code",
   "execution_count": 32,
   "id": "dbf6aea1",
   "metadata": {},
   "outputs": [
    {
     "data": {
      "text/plain": [
       "'Madhu'"
      ]
     },
     "execution_count": 32,
     "metadata": {},
     "output_type": "execute_result"
    }
   ],
   "source": [
    "a.capitalize()"
   ]
  },
  {
   "cell_type": "markdown",
   "id": "2beeb359",
   "metadata": {},
   "source": [
    "4. Write a diference between isalnum() and isalpha()"
   ]
  },
  {
   "cell_type": "code",
   "execution_count": 33,
   "id": "0b9b7532",
   "metadata": {},
   "outputs": [],
   "source": [
    "a = \"Madhu1311\""
   ]
  },
  {
   "cell_type": "code",
   "execution_count": 34,
   "id": "b4c41119",
   "metadata": {},
   "outputs": [
    {
     "data": {
      "text/plain": [
       "False"
      ]
     },
     "execution_count": 34,
     "metadata": {},
     "output_type": "execute_result"
    }
   ],
   "source": [
    "a.isalpha()"
   ]
  },
  {
   "cell_type": "code",
   "execution_count": 35,
   "id": "3135fd22",
   "metadata": {},
   "outputs": [
    {
     "data": {
      "text/plain": [
       "True"
      ]
     },
     "execution_count": 35,
     "metadata": {},
     "output_type": "execute_result"
    }
   ],
   "source": [
    "a.isalnum()"
   ]
  },
  {
   "cell_type": "markdown",
   "id": "f319f985",
   "metadata": {},
   "source": [
    "Try to give an example of expand tab"
   ]
  },
  {
   "cell_type": "code",
   "execution_count": 42,
   "id": "c5983a10",
   "metadata": {},
   "outputs": [],
   "source": [
    "M5=\"Manjun\\tadha\""
   ]
  },
  {
   "cell_type": "code",
   "execution_count": 44,
   "id": "ea9ac558",
   "metadata": {},
   "outputs": [
    {
     "data": {
      "text/plain": [
       "'Manjun                                                                                              adha'"
      ]
     },
     "execution_count": 44,
     "metadata": {},
     "output_type": "execute_result"
    }
   ],
   "source": [
    "M5.expandtabs(100)"
   ]
  },
  {
   "cell_type": "markdown",
   "id": "8e06049f",
   "metadata": {},
   "source": [
    "Give an example of strip , lstrip and rstrip"
   ]
  },
  {
   "cell_type": "code",
   "execution_count": 45,
   "id": "210c9492",
   "metadata": {},
   "outputs": [],
   "source": [
    "M6=\"  Hello  \""
   ]
  },
  {
   "cell_type": "code",
   "execution_count": 46,
   "id": "97aa8659",
   "metadata": {},
   "outputs": [
    {
     "data": {
      "text/plain": [
       "'Hello'"
      ]
     },
     "execution_count": 46,
     "metadata": {},
     "output_type": "execute_result"
    }
   ],
   "source": [
    "M6.strip()"
   ]
  },
  {
   "cell_type": "code",
   "execution_count": 47,
   "id": "bd6b568d",
   "metadata": {},
   "outputs": [
    {
     "data": {
      "text/plain": [
       "'Hello  '"
      ]
     },
     "execution_count": 47,
     "metadata": {},
     "output_type": "execute_result"
    }
   ],
   "source": [
    "M6.lstrip()"
   ]
  },
  {
   "cell_type": "code",
   "execution_count": 48,
   "id": "04481dfd",
   "metadata": {},
   "outputs": [
    {
     "data": {
      "text/plain": [
       "'  Hello'"
      ]
     },
     "execution_count": 48,
     "metadata": {},
     "output_type": "execute_result"
    }
   ],
   "source": [
    "M6.rstrip()"
   ]
  },
  {
   "cell_type": "markdown",
   "id": "70c81dcc",
   "metadata": {},
   "source": [
    "Replace a string charecter by another charecter by taking your own example."
   ]
  },
  {
   "cell_type": "code",
   "execution_count": 49,
   "id": "474b5e74",
   "metadata": {},
   "outputs": [],
   "source": [
    "t=\"KL University is good for placements\""
   ]
  },
  {
   "cell_type": "code",
   "execution_count": 51,
   "id": "40cf9f4a",
   "metadata": {},
   "outputs": [
    {
     "data": {
      "text/plain": [
       "'KL Unaversaty as good for placements'"
      ]
     },
     "execution_count": 51,
     "metadata": {},
     "output_type": "execute_result"
    }
   ],
   "source": [
    "t.replace(\"i\",\"a\",3)"
   ]
  },
  {
   "cell_type": "markdown",
   "id": "d46a7fdd",
   "metadata": {},
   "source": [
    "Replace a string charecter by another charecter by taking your own example."
   ]
  },
  {
   "cell_type": "code",
   "execution_count": 53,
   "id": "829c0d0e",
   "metadata": {},
   "outputs": [],
   "source": [
    "t1=\"python\"\n"
   ]
  },
  {
   "cell_type": "code",
   "execution_count": 54,
   "id": "618dd8f5",
   "metadata": {},
   "outputs": [
    {
     "data": {
      "text/plain": [
       "'*******python*******'"
      ]
     },
     "execution_count": 54,
     "metadata": {},
     "output_type": "execute_result"
    }
   ],
   "source": [
    "t1.center(20,\"*\")\n"
   ]
  },
  {
   "cell_type": "code",
   "execution_count": null,
   "id": "9e784c50",
   "metadata": {},
   "outputs": [],
   "source": []
  }
 ],
 "metadata": {
  "kernelspec": {
   "display_name": "Python 3 (ipykernel)",
   "language": "python",
   "name": "python3"
  },
  "language_info": {
   "codemirror_mode": {
    "name": "ipython",
    "version": 3
   },
   "file_extension": ".py",
   "mimetype": "text/x-python",
   "name": "python",
   "nbconvert_exporter": "python",
   "pygments_lexer": "ipython3",
   "version": "3.9.12"
  }
 },
 "nbformat": 4,
 "nbformat_minor": 5
}
